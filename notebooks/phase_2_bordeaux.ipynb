{
 "cells": [
  {
   "cell_type": "markdown",
   "id": "4351dcd8",
   "metadata": {},
   "source": [
    "## 📚 Étape 0 : Import de bibliothéque\n",
    "---"
   ]
  },
  {
   "cell_type": "code",
   "execution_count": 119,
   "id": "9408e0db",
   "metadata": {},
   "outputs": [],
   "source": [
    "import pandas as pd\n",
    "import os\n",
    "import numpy as np\n",
    "import matplotlib as plt\n",
    "from sklearn.linear_model import LinearRegression"
   ]
  },
  {
   "cell_type": "markdown",
   "id": "e093f0cd",
   "metadata": {},
   "source": [
    "## 🔍 Étape 1 : Analyse du fichier lille_2022.csv\n",
    "---"
   ]
  },
  {
   "cell_type": "code",
   "execution_count": 120,
   "id": "c4165ebc",
   "metadata": {},
   "outputs": [
    {
     "name": "stdout",
     "output_type": "stream",
     "text": [
      "/Users/aminaabdm/Desktop/FastAPI_IA_Immobilier/notebooks\n"
     ]
    }
   ],
   "source": [
    "import os\n",
    "print(os.getcwd())"
   ]
  },
  {
   "cell_type": "code",
   "execution_count": 121,
   "id": "8da07119",
   "metadata": {},
   "outputs": [
    {
     "name": "stdout",
     "output_type": "stream",
     "text": [
      "<class 'pandas.core.frame.DataFrame'>\n",
      "RangeIndex: 13200 entries, 0 to 13199\n",
      "Data columns (total 44 columns):\n",
      " #   Column                      Non-Null Count  Dtype  \n",
      "---  ------                      --------------  -----  \n",
      " 0   Identifiant de document     0 non-null      float64\n",
      " 1   Reference document          0 non-null      float64\n",
      " 2   1 Articles CGI              0 non-null      float64\n",
      " 3   2 Articles CGI              0 non-null      float64\n",
      " 4   3 Articles CGI              0 non-null      float64\n",
      " 5   4 Articles CGI              0 non-null      float64\n",
      " 6   5 Articles CGI              0 non-null      float64\n",
      " 7   No disposition              13200 non-null  int64  \n",
      " 8   Date mutation               13200 non-null  object \n",
      " 9   Nature mutation             13200 non-null  object \n",
      " 10  Valeur fonciere             13200 non-null  float64\n",
      " 11  No voie                     13155 non-null  float64\n",
      " 12  B/T/Q                       402 non-null    object \n",
      " 13  Type de voie                13198 non-null  object \n",
      " 14  Code voie                   13200 non-null  object \n",
      " 15  Voie                        13200 non-null  object \n",
      " 16  Code postal                 13200 non-null  float64\n",
      " 17  Commune                     13200 non-null  object \n",
      " 18  Code departement            13200 non-null  int64  \n",
      " 19  Code commune                13200 non-null  int64  \n",
      " 20  Prefixe de section          0 non-null      float64\n",
      " 21  Section                     13157 non-null  object \n",
      " 22  No plan                     13200 non-null  int64  \n",
      " 23  No Volume                   0 non-null      float64\n",
      " 24  1er lot                     9530 non-null   object \n",
      " 25  Surface Carrez du 1er lot   2000 non-null   object \n",
      " 26  2eme lot                    1659 non-null   float64\n",
      " 27  Surface Carrez du 2eme lot  336 non-null    object \n",
      " 28  3eme lot                    254 non-null    float64\n",
      " 29  Surface Carrez du 3eme lot  33 non-null     object \n",
      " 30  4eme lot                    104 non-null    float64\n",
      " 31  Surface Carrez du 4eme lot  13 non-null     object \n",
      " 32  5eme lot                    49 non-null     float64\n",
      " 33  Surface Carrez du 5eme lot  11 non-null     object \n",
      " 34  Nombre de lots              13200 non-null  int64  \n",
      " 35  Code type local             13200 non-null  float64\n",
      " 36  Type local                  13200 non-null  object \n",
      " 37  Identifiant local           0 non-null      float64\n",
      " 38  Surface reelle bati         13200 non-null  float64\n",
      " 39  Nombre pieces principales   13200 non-null  float64\n",
      " 40  Nature culture              3668 non-null   object \n",
      " 41  Nature culture speciale     15 non-null     object \n",
      " 42  Surface terrain             3668 non-null   float64\n",
      " 43  prix_m2                     13200 non-null  float64\n",
      "dtypes: float64(22), int64(5), object(17)\n",
      "memory usage: 4.4+ MB\n"
     ]
    },
    {
     "data": {
      "text/html": [
       "<div>\n",
       "<style scoped>\n",
       "    .dataframe tbody tr th:only-of-type {\n",
       "        vertical-align: middle;\n",
       "    }\n",
       "\n",
       "    .dataframe tbody tr th {\n",
       "        vertical-align: top;\n",
       "    }\n",
       "\n",
       "    .dataframe thead th {\n",
       "        text-align: right;\n",
       "    }\n",
       "</style>\n",
       "<table border=\"1\" class=\"dataframe\">\n",
       "  <thead>\n",
       "    <tr style=\"text-align: right;\">\n",
       "      <th></th>\n",
       "      <th>Identifiant de document</th>\n",
       "      <th>Reference document</th>\n",
       "      <th>1 Articles CGI</th>\n",
       "      <th>2 Articles CGI</th>\n",
       "      <th>3 Articles CGI</th>\n",
       "      <th>4 Articles CGI</th>\n",
       "      <th>5 Articles CGI</th>\n",
       "      <th>No disposition</th>\n",
       "      <th>Date mutation</th>\n",
       "      <th>Nature mutation</th>\n",
       "      <th>...</th>\n",
       "      <th>Nombre de lots</th>\n",
       "      <th>Code type local</th>\n",
       "      <th>Type local</th>\n",
       "      <th>Identifiant local</th>\n",
       "      <th>Surface reelle bati</th>\n",
       "      <th>Nombre pieces principales</th>\n",
       "      <th>Nature culture</th>\n",
       "      <th>Nature culture speciale</th>\n",
       "      <th>Surface terrain</th>\n",
       "      <th>prix_m2</th>\n",
       "    </tr>\n",
       "  </thead>\n",
       "  <tbody>\n",
       "    <tr>\n",
       "      <th>0</th>\n",
       "      <td>NaN</td>\n",
       "      <td>NaN</td>\n",
       "      <td>NaN</td>\n",
       "      <td>NaN</td>\n",
       "      <td>NaN</td>\n",
       "      <td>NaN</td>\n",
       "      <td>NaN</td>\n",
       "      <td>1</td>\n",
       "      <td>04/01/2022</td>\n",
       "      <td>Vente</td>\n",
       "      <td>...</td>\n",
       "      <td>0</td>\n",
       "      <td>1.0</td>\n",
       "      <td>Maison</td>\n",
       "      <td>NaN</td>\n",
       "      <td>71.0</td>\n",
       "      <td>4.0</td>\n",
       "      <td>S</td>\n",
       "      <td>NaN</td>\n",
       "      <td>70.0</td>\n",
       "      <td>5577.464789</td>\n",
       "    </tr>\n",
       "    <tr>\n",
       "      <th>1</th>\n",
       "      <td>NaN</td>\n",
       "      <td>NaN</td>\n",
       "      <td>NaN</td>\n",
       "      <td>NaN</td>\n",
       "      <td>NaN</td>\n",
       "      <td>NaN</td>\n",
       "      <td>NaN</td>\n",
       "      <td>1</td>\n",
       "      <td>05/01/2022</td>\n",
       "      <td>Vente</td>\n",
       "      <td>...</td>\n",
       "      <td>1</td>\n",
       "      <td>2.0</td>\n",
       "      <td>Appartement</td>\n",
       "      <td>NaN</td>\n",
       "      <td>40.0</td>\n",
       "      <td>1.0</td>\n",
       "      <td>NaN</td>\n",
       "      <td>NaN</td>\n",
       "      <td>NaN</td>\n",
       "      <td>3962.500000</td>\n",
       "    </tr>\n",
       "    <tr>\n",
       "      <th>2</th>\n",
       "      <td>NaN</td>\n",
       "      <td>NaN</td>\n",
       "      <td>NaN</td>\n",
       "      <td>NaN</td>\n",
       "      <td>NaN</td>\n",
       "      <td>NaN</td>\n",
       "      <td>NaN</td>\n",
       "      <td>1</td>\n",
       "      <td>07/01/2022</td>\n",
       "      <td>Vente</td>\n",
       "      <td>...</td>\n",
       "      <td>1</td>\n",
       "      <td>3.0</td>\n",
       "      <td>Dépendance</td>\n",
       "      <td>NaN</td>\n",
       "      <td>0.0</td>\n",
       "      <td>0.0</td>\n",
       "      <td>NaN</td>\n",
       "      <td>NaN</td>\n",
       "      <td>NaN</td>\n",
       "      <td>inf</td>\n",
       "    </tr>\n",
       "    <tr>\n",
       "      <th>3</th>\n",
       "      <td>NaN</td>\n",
       "      <td>NaN</td>\n",
       "      <td>NaN</td>\n",
       "      <td>NaN</td>\n",
       "      <td>NaN</td>\n",
       "      <td>NaN</td>\n",
       "      <td>NaN</td>\n",
       "      <td>1</td>\n",
       "      <td>07/01/2022</td>\n",
       "      <td>Vente</td>\n",
       "      <td>...</td>\n",
       "      <td>1</td>\n",
       "      <td>2.0</td>\n",
       "      <td>Appartement</td>\n",
       "      <td>NaN</td>\n",
       "      <td>35.0</td>\n",
       "      <td>1.0</td>\n",
       "      <td>NaN</td>\n",
       "      <td>NaN</td>\n",
       "      <td>NaN</td>\n",
       "      <td>5342.857143</td>\n",
       "    </tr>\n",
       "    <tr>\n",
       "      <th>4</th>\n",
       "      <td>NaN</td>\n",
       "      <td>NaN</td>\n",
       "      <td>NaN</td>\n",
       "      <td>NaN</td>\n",
       "      <td>NaN</td>\n",
       "      <td>NaN</td>\n",
       "      <td>NaN</td>\n",
       "      <td>1</td>\n",
       "      <td>07/01/2022</td>\n",
       "      <td>Vente</td>\n",
       "      <td>...</td>\n",
       "      <td>1</td>\n",
       "      <td>3.0</td>\n",
       "      <td>Dépendance</td>\n",
       "      <td>NaN</td>\n",
       "      <td>0.0</td>\n",
       "      <td>0.0</td>\n",
       "      <td>NaN</td>\n",
       "      <td>NaN</td>\n",
       "      <td>NaN</td>\n",
       "      <td>inf</td>\n",
       "    </tr>\n",
       "  </tbody>\n",
       "</table>\n",
       "<p>5 rows × 44 columns</p>\n",
       "</div>"
      ],
      "text/plain": [
       "   Identifiant de document  Reference document  1 Articles CGI  \\\n",
       "0                      NaN                 NaN             NaN   \n",
       "1                      NaN                 NaN             NaN   \n",
       "2                      NaN                 NaN             NaN   \n",
       "3                      NaN                 NaN             NaN   \n",
       "4                      NaN                 NaN             NaN   \n",
       "\n",
       "   2 Articles CGI  3 Articles CGI  4 Articles CGI  5 Articles CGI  \\\n",
       "0             NaN             NaN             NaN             NaN   \n",
       "1             NaN             NaN             NaN             NaN   \n",
       "2             NaN             NaN             NaN             NaN   \n",
       "3             NaN             NaN             NaN             NaN   \n",
       "4             NaN             NaN             NaN             NaN   \n",
       "\n",
       "   No disposition Date mutation Nature mutation  ...  Nombre de lots  \\\n",
       "0               1    04/01/2022           Vente  ...               0   \n",
       "1               1    05/01/2022           Vente  ...               1   \n",
       "2               1    07/01/2022           Vente  ...               1   \n",
       "3               1    07/01/2022           Vente  ...               1   \n",
       "4               1    07/01/2022           Vente  ...               1   \n",
       "\n",
       "   Code type local   Type local Identifiant local Surface reelle bati  \\\n",
       "0              1.0       Maison               NaN                71.0   \n",
       "1              2.0  Appartement               NaN                40.0   \n",
       "2              3.0   Dépendance               NaN                 0.0   \n",
       "3              2.0  Appartement               NaN                35.0   \n",
       "4              3.0   Dépendance               NaN                 0.0   \n",
       "\n",
       "  Nombre pieces principales  Nature culture Nature culture speciale  \\\n",
       "0                       4.0               S                     NaN   \n",
       "1                       1.0             NaN                     NaN   \n",
       "2                       0.0             NaN                     NaN   \n",
       "3                       1.0             NaN                     NaN   \n",
       "4                       0.0             NaN                     NaN   \n",
       "\n",
       "   Surface terrain      prix_m2  \n",
       "0             70.0  5577.464789  \n",
       "1              NaN  3962.500000  \n",
       "2              NaN          inf  \n",
       "3              NaN  5342.857143  \n",
       "4              NaN          inf  \n",
       "\n",
       "[5 rows x 44 columns]"
      ]
     },
     "execution_count": 121,
     "metadata": {},
     "output_type": "execute_result"
    }
   ],
   "source": [
    "df = pd.read_csv(\"../data/bordeaux_2022.csv\")\n",
    "df.info()\n",
    "df.head()"
   ]
  },
  {
   "cell_type": "markdown",
   "id": "5c4eeb30",
   "metadata": {},
   "source": [
    "## 🧬 Étape 2 : Filtrer les biens de 4 pièces uniquement\n",
    "---"
   ]
  },
  {
   "cell_type": "code",
   "execution_count": 122,
   "id": "fc300df7",
   "metadata": {},
   "outputs": [
    {
     "name": "stdout",
     "output_type": "stream",
     "text": [
      "Index(['Identifiant de document', 'Reference document', '1 Articles CGI',\n",
      "       '2 Articles CGI', '3 Articles CGI', '4 Articles CGI', '5 Articles CGI',\n",
      "       'No disposition', 'Date mutation', 'Nature mutation', 'Valeur fonciere',\n",
      "       'No voie', 'B/T/Q', 'Type de voie', 'Code voie', 'Voie', 'Code postal',\n",
      "       'Commune', 'Code departement', 'Code commune', 'Prefixe de section',\n",
      "       'Section', 'No plan', 'No Volume', '1er lot',\n",
      "       'Surface Carrez du 1er lot', '2eme lot', 'Surface Carrez du 2eme lot',\n",
      "       '3eme lot', 'Surface Carrez du 3eme lot', '4eme lot',\n",
      "       'Surface Carrez du 4eme lot', '5eme lot', 'Surface Carrez du 5eme lot',\n",
      "       'Nombre de lots', 'Code type local', 'Type local', 'Identifiant local',\n",
      "       'Surface reelle bati', 'Nombre pieces principales', 'Nature culture',\n",
      "       'Nature culture speciale', 'Surface terrain', 'prix_m2'],\n",
      "      dtype='object')\n",
      "(1071, 44)\n",
      "    Identifiant de document  Reference document  1 Articles CGI  \\\n",
      "0                       NaN                 NaN             NaN   \n",
      "13                      NaN                 NaN             NaN   \n",
      "23                      NaN                 NaN             NaN   \n",
      "31                      NaN                 NaN             NaN   \n",
      "48                      NaN                 NaN             NaN   \n",
      "\n",
      "    2 Articles CGI  3 Articles CGI  4 Articles CGI  5 Articles CGI  \\\n",
      "0              NaN             NaN             NaN             NaN   \n",
      "13             NaN             NaN             NaN             NaN   \n",
      "23             NaN             NaN             NaN             NaN   \n",
      "31             NaN             NaN             NaN             NaN   \n",
      "48             NaN             NaN             NaN             NaN   \n",
      "\n",
      "    No disposition Date mutation Nature mutation  ...  Nombre de lots  \\\n",
      "0                1    04/01/2022           Vente  ...               0   \n",
      "13               1    07/01/2022           Vente  ...               2   \n",
      "23               1    07/01/2022           Vente  ...               1   \n",
      "31               1    06/01/2022           Vente  ...               0   \n",
      "48               1    13/01/2022           Vente  ...               0   \n",
      "\n",
      "    Code type local   Type local Identifiant local Surface reelle bati  \\\n",
      "0               1.0       Maison               NaN                71.0   \n",
      "13              2.0  Appartement               NaN               108.0   \n",
      "23              2.0  Appartement               NaN                75.0   \n",
      "31              1.0       Maison               NaN                92.0   \n",
      "48              1.0       Maison               NaN               129.0   \n",
      "\n",
      "   Nombre pieces principales  Nature culture Nature culture speciale  \\\n",
      "0                        4.0               S                     NaN   \n",
      "13                       4.0             NaN                     NaN   \n",
      "23                       4.0             NaN                     NaN   \n",
      "31                       4.0               S                     NaN   \n",
      "48                       4.0               S                     NaN   \n",
      "\n",
      "    Surface terrain      prix_m2  \n",
      "0              70.0  5577.464789  \n",
      "13              NaN  6296.296296  \n",
      "23              NaN  4017.333333  \n",
      "31            121.0  5760.869565  \n",
      "48            175.0  5426.356589  \n",
      "\n",
      "[5 rows x 44 columns]\n"
     ]
    }
   ],
   "source": [
    "# Vérification  des colonnes du dataframe pour être sûr du nom exact\n",
    "print(df.columns)\n",
    "\n",
    "# Filtrage sur 4.0 (float)\n",
    "df_4_pieces = df[df['Nombre pieces principales'] == 4].copy()\n",
    "\n",
    "# Vérifier que le filtrage a fonctionné\n",
    "print(df_4_pieces.shape)\n",
    "print(df_4_pieces.head())\n"
   ]
  },
  {
   "cell_type": "code",
   "execution_count": 123,
   "id": "02c73ce8",
   "metadata": {},
   "outputs": [
    {
     "name": "stdout",
     "output_type": "stream",
     "text": [
      "float64\n",
      "[ 4.  1.  0.  3.  7.  2.  5.  6.  8. 10.  9. 11. 12. 15. 13.]\n"
     ]
    }
   ],
   "source": [
    "print(df['Nombre pieces principales'].dtype)\n",
    "print(df['Nombre pieces principales'].unique())"
   ]
  },
  {
   "cell_type": "markdown",
   "id": "014ed538",
   "metadata": {},
   "source": [
    "## 🧪 Étape 3 : Création de jeu de données distincs pour les appartements et les maisons \n",
    "---"
   ]
  },
  {
   "cell_type": "markdown",
   "id": "baf2aab0",
   "metadata": {},
   "source": [
    "### ✅ Jeu de données pour les appartements :\n",
    "\n"
   ]
  },
  {
   "cell_type": "code",
   "execution_count": 124,
   "id": "3cac39d7",
   "metadata": {},
   "outputs": [
    {
     "name": "stdout",
     "output_type": "stream",
     "text": [
      "Index(['Identifiant de document', 'Reference document', '1 Articles CGI',\n",
      "       '2 Articles CGI', '3 Articles CGI', '4 Articles CGI', '5 Articles CGI',\n",
      "       'No disposition', 'Date mutation', 'Nature mutation', 'Valeur fonciere',\n",
      "       'No voie', 'B/T/Q', 'Type de voie', 'Code voie', 'Voie', 'Code postal',\n",
      "       'Commune', 'Code departement', 'Code commune', 'Prefixe de section',\n",
      "       'Section', 'No plan', 'No Volume', '1er lot',\n",
      "       'Surface Carrez du 1er lot', '2eme lot', 'Surface Carrez du 2eme lot',\n",
      "       '3eme lot', 'Surface Carrez du 3eme lot', '4eme lot',\n",
      "       'Surface Carrez du 4eme lot', '5eme lot', 'Surface Carrez du 5eme lot',\n",
      "       'Nombre de lots', 'Code type local', 'Type local', 'Identifiant local',\n",
      "       'Surface reelle bati', 'Nombre pieces principales', 'Nature culture',\n",
      "       'Nature culture speciale', 'Surface terrain', 'prix_m2'],\n",
      "      dtype='object')\n",
      "(5353, 6)\n",
      "    Surface reelle bati  Nombre pieces principales   Type local  \\\n",
      "1                  40.0                        1.0  Appartement   \n",
      "3                  35.0                        1.0  Appartement   \n",
      "7                  20.0                        1.0  Appartement   \n",
      "8                  71.0                        1.0  Appartement   \n",
      "12                 20.0                        1.0  Appartement   \n",
      "\n",
      "    Surface terrain  Nombre de lots      prix_m2  \n",
      "1               NaN               1  3962.500000  \n",
      "3               NaN               1  5342.857143  \n",
      "7               NaN               1  5800.000000  \n",
      "8               NaN               1  4211.267606  \n",
      "12              NaN               1  5375.000000  \n"
     ]
    }
   ],
   "source": [
    "# # Filtrer le DataFrame pour ne garder que les appartements\n",
    "df_appartements = df[df['Type local'] == 'Appartement'].copy()\n",
    "\n",
    "# Afficher la liste des colonnes pour vérifier les colonnes disponibles\n",
    "print(df_appartements.columns)\n",
    "\n",
    "# Sélection dela liste des colonnes que l'on souhaite conserver\n",
    "colonnes_a_garder = [\n",
    "    'Surface reelle bati',\n",
    "    'Nombre pieces principales',\n",
    "    'Type local',\n",
    "    'Surface terrain',     \n",
    "    'Nombre de lots',\n",
    "    'prix_m2'\n",
    "]\n",
    "\n",
    "# Filtrer cette liste pour ne garder que les colonnes qui existent vraiment dans le DataFrame\n",
    "colonnes_disponibles = [col for col in colonnes_a_garder if col in df_appartements.columns]\n",
    "\n",
    "# Sélectionner dans le DataFrame uniquement ces colonnes disponibles\n",
    "df_appartements = df_appartements[colonnes_disponibles].copy()\n",
    "\n",
    "# Afficher un aperçu pour vérifier\n",
    "print(df_appartements.shape)\n",
    "print(df_appartements.head())\n",
    "\n"
   ]
  },
  {
   "cell_type": "markdown",
   "id": "4978f447",
   "metadata": {},
   "source": [
    "### ✅ Jeu de données pour les maisons : \n",
    "\n"
   ]
  },
  {
   "cell_type": "code",
   "execution_count": 125,
   "id": "e489a4b2",
   "metadata": {},
   "outputs": [
    {
     "name": "stdout",
     "output_type": "stream",
     "text": [
      "Index(['Identifiant de document', 'Reference document', '1 Articles CGI',\n",
      "       '2 Articles CGI', '3 Articles CGI', '4 Articles CGI', '5 Articles CGI',\n",
      "       'No disposition', 'Date mutation', 'Nature mutation', 'Valeur fonciere',\n",
      "       'No voie', 'B/T/Q', 'Type de voie', 'Code voie', 'Voie', 'Code postal',\n",
      "       'Commune', 'Code departement', 'Code commune', 'Prefixe de section',\n",
      "       'Section', 'No plan', 'No Volume', '1er lot',\n",
      "       'Surface Carrez du 1er lot', '2eme lot', 'Surface Carrez du 2eme lot',\n",
      "       '3eme lot', 'Surface Carrez du 3eme lot', '4eme lot',\n",
      "       'Surface Carrez du 4eme lot', '5eme lot', 'Surface Carrez du 5eme lot',\n",
      "       'Nombre de lots', 'Code type local', 'Type local', 'Identifiant local',\n",
      "       'Surface reelle bati', 'Nombre pieces principales', 'Nature culture',\n",
      "       'Nature culture speciale', 'Surface terrain', 'prix_m2'],\n",
      "      dtype='object')\n",
      "    Surface reelle bati  Nombre pieces principales Type local  \\\n",
      "0                  71.0                        4.0     Maison   \n",
      "5                  65.0                        3.0     Maison   \n",
      "10                162.0                        7.0     Maison   \n",
      "31                 92.0                        4.0     Maison   \n",
      "44                 82.0                        3.0     Maison   \n",
      "\n",
      "    Surface terrain  Nombre de lots      prix_m2  \n",
      "0              70.0               0  5577.464789  \n",
      "5              45.0               0  4807.692308  \n",
      "10            111.0               0  3117.283951  \n",
      "31            121.0               0  5760.869565  \n",
      "44             44.0               0  4939.024390  \n"
     ]
    }
   ],
   "source": [
    "# # Filtrer le DataFrame pour ne garder que les maisons\n",
    "df_maisons = df[df['Type local'] == 'Maison'].copy()\n",
    "\n",
    "# Afficher la liste des colonnes pour vérifier les colonnes disponibles\n",
    "print(df_maisons.columns)\n",
    "\n",
    "# Sélection dela liste des colonnes que l'on souhaite conserver\n",
    "colonnes_a_garder = [\n",
    "    'Surface reelle bati',\n",
    "    'Nombre pieces principales',\n",
    "    'Type local',\n",
    "    'Surface terrain',     \n",
    "    'Nombre de lots',\n",
    "    'prix_m2'\n",
    "]\n",
    "\n",
    "# Filtrer cette liste pour ne garder que les colonnes qui existent vraiment dans le DataFrame\n",
    "colonnes_disponibles = [col for col in colonnes_a_garder if col in df_maisons.columns]\n",
    "\n",
    "# Sélectionner dans le DataFrame uniquement ces colonnes disponibles\n",
    "df_maisons = df_maisons[colonnes_disponibles].copy()\n",
    "\n",
    "# Afficher un aperçu pour vérifier\n",
    "print(df_maisons.head())\n",
    "\n"
   ]
  },
  {
   "cell_type": "markdown",
   "id": "b50c53a0",
   "metadata": {},
   "source": [
    "## 🧹 Étape 5 : Nettoyage des données \n",
    "---"
   ]
  },
  {
   "cell_type": "markdown",
   "id": "1dc76972",
   "metadata": {},
   "source": [
    "### ✅ Supprimer les lignes avec valeurs manquantes\n",
    "\n"
   ]
  },
  {
   "cell_type": "code",
   "execution_count": 126,
   "id": "dd008ab3",
   "metadata": {},
   "outputs": [],
   "source": [
    "from sklearn.preprocessing import LabelEncoder\n",
    "\n",
    "# 🧼 Étape 1 : Colonnes utiles pour l'entraînement\n",
    "colonnes_utiles = [\n",
    "    'Surface reelle bati',\n",
    "    'Nombre pieces principales',\n",
    "    'Type local',\n",
    "    'Surface terrain',\n",
    "    'Nombre de lots',\n",
    "    'prix_m2'\n",
    "]\n",
    "\n",
    "# 🧹 Étape 2 : Nettoyage des données avec dropna, et création d'une copie propre\n",
    "df_appartements_clean = df_appartements.dropna(subset=colonnes_utiles).copy()\n",
    "df_maisons_clean = df_maisons.dropna(subset=colonnes_utiles).copy() \n",
    "\n",
    "# 🏷️ Étape 3 : Encodage de 'Type local' sur chaque DataFrame (si besoin de garder les deux)\n",
    "label_encoder = LabelEncoder()\n",
    "\n",
    "# Mapping d'encodage global\n",
    "mapping_type_local = {\n",
    "    \"Appartement\": 0,\n",
    "    \"Maison\": 1\n",
    "}\n",
    "\n",
    "df_appartements_clean[\"Type local encoded\"] = df_appartements_clean[\"Type local\"].map(mapping_type_local)\n",
    "df_maisons_clean[\"Type local encoded\"] = df_maisons_clean[\"Type local\"].map(mapping_type_local)\n",
    "\n",
    "# 🧺 Étape 4 : Optionnel – supprimer la colonne originale\n",
    "df_appartements_clean.drop(columns=[\"Type local\"], inplace=True)\n",
    "df_maisons_clean.drop(columns=[\"Type local\"], inplace=True)\n"
   ]
  },
  {
   "cell_type": "markdown",
   "id": "e1b6b325",
   "metadata": {},
   "source": [
    "### ✅ Retirer les valeurs aberrantes (prix_m2 trop faible ou trop élevé)"
   ]
  },
  {
   "cell_type": "markdown",
   "id": "89fcc58a",
   "metadata": {},
   "source": [
    "### 🏢 Outliers appartements "
   ]
  },
  {
   "cell_type": "code",
   "execution_count": 127,
   "id": "20c94c60",
   "metadata": {},
   "outputs": [
    {
     "name": "stdout",
     "output_type": "stream",
     "text": [
      "🔎 Détection des outliers sur la colonne 'prix_m2' pour les appartements 🏢\n",
      "Q1 : 11259.328358208955, Q3 : 30232.558139534885\n",
      "Borne inférieure : -17200.51631377994, Borne supérieure : 58692.402811523774\n",
      "Nombre d'outliers détectés : 58\n",
      "\n",
      "Dimensions avant nettoyage : (971, 6)\n",
      "Dimensions après nettoyage : (971, 6)\n"
     ]
    }
   ],
   "source": [
    "def detect_outliers(df, column='prix_m2'):\n",
    "    Q1 = df[column].quantile(0.25)\n",
    "    Q3 = df[column].quantile(0.75)\n",
    "    IQR = Q3 - Q1\n",
    "    lower_bound = Q1 - 1.5 * IQR\n",
    "    upper_bound = Q3 + 1.5 * IQR\n",
    "    outliers = df[(df[column] < lower_bound) | (df[column] > upper_bound)]\n",
    "    return Q1, Q3, lower_bound, upper_bound, outliers\n",
    "\n",
    "# Détection des outliers dans les appartements\n",
    "print(\"🔎 Détection des outliers sur la colonne 'prix_m2' pour les appartements 🏢\")\n",
    "\n",
    "Q1_appart, Q3_appart, lower_appart, upper_appart, outliers_appart = detect_outliers(df_appartements_clean)\n",
    "\n",
    "print(f\"Q1 : {Q1_appart}, Q3 : {Q3_appart}\")\n",
    "print(f\"Borne inférieure : {lower_appart}, Borne supérieure : {upper_appart}\")\n",
    "print(f\"Nombre d'outliers détectés : {outliers_appart.shape[0]}\\n\")\n",
    "\n",
    "# Dimensions avant nettoyage\n",
    "print(f\"Dimensions avant nettoyage : {df_appartements_clean.shape}\")\n",
    "\n",
    "# Création d'une copie propre sans les outliers\n",
    "df_appartements_cleaned = df_appartements_clean[\n",
    "    (df_appartements_clean['prix_m2'] >= lower_appart) &\n",
    "    (df_appartements_clean['prix_m2'] <= upper_appart)\n",
    "].copy()\n",
    "\n",
    "# Dimensions après nettoyage\n",
    "print(f\"Dimensions après nettoyage : {df_appartements_clean.shape}\")\n"
   ]
  },
  {
   "cell_type": "code",
   "execution_count": 128,
   "id": "01f63539",
   "metadata": {},
   "outputs": [
    {
     "data": {
      "text/html": [
       "<div>\n",
       "<style scoped>\n",
       "    .dataframe tbody tr th:only-of-type {\n",
       "        vertical-align: middle;\n",
       "    }\n",
       "\n",
       "    .dataframe tbody tr th {\n",
       "        vertical-align: top;\n",
       "    }\n",
       "\n",
       "    .dataframe thead th {\n",
       "        text-align: right;\n",
       "    }\n",
       "</style>\n",
       "<table border=\"1\" class=\"dataframe\">\n",
       "  <thead>\n",
       "    <tr style=\"text-align: right;\">\n",
       "      <th></th>\n",
       "      <th>Surface reelle bati</th>\n",
       "      <th>Nombre pieces principales</th>\n",
       "      <th>Surface terrain</th>\n",
       "      <th>Nombre de lots</th>\n",
       "      <th>prix_m2</th>\n",
       "      <th>Type local encoded</th>\n",
       "    </tr>\n",
       "  </thead>\n",
       "  <tbody>\n",
       "    <tr>\n",
       "      <th>24</th>\n",
       "      <td>36.0</td>\n",
       "      <td>2.0</td>\n",
       "      <td>63.0</td>\n",
       "      <td>0</td>\n",
       "      <td>23627.777778</td>\n",
       "      <td>0</td>\n",
       "    </tr>\n",
       "    <tr>\n",
       "      <th>25</th>\n",
       "      <td>36.0</td>\n",
       "      <td>2.0</td>\n",
       "      <td>63.0</td>\n",
       "      <td>0</td>\n",
       "      <td>23627.777778</td>\n",
       "      <td>0</td>\n",
       "    </tr>\n",
       "    <tr>\n",
       "      <th>26</th>\n",
       "      <td>26.0</td>\n",
       "      <td>1.0</td>\n",
       "      <td>63.0</td>\n",
       "      <td>0</td>\n",
       "      <td>32715.384615</td>\n",
       "      <td>0</td>\n",
       "    </tr>\n",
       "    <tr>\n",
       "      <th>86</th>\n",
       "      <td>39.0</td>\n",
       "      <td>2.0</td>\n",
       "      <td>57.0</td>\n",
       "      <td>0</td>\n",
       "      <td>15897.435897</td>\n",
       "      <td>0</td>\n",
       "    </tr>\n",
       "    <tr>\n",
       "      <th>87</th>\n",
       "      <td>40.0</td>\n",
       "      <td>2.0</td>\n",
       "      <td>57.0</td>\n",
       "      <td>0</td>\n",
       "      <td>15500.000000</td>\n",
       "      <td>0</td>\n",
       "    </tr>\n",
       "  </tbody>\n",
       "</table>\n",
       "</div>"
      ],
      "text/plain": [
       "    Surface reelle bati  Nombre pieces principales  Surface terrain  \\\n",
       "24                 36.0                        2.0             63.0   \n",
       "25                 36.0                        2.0             63.0   \n",
       "26                 26.0                        1.0             63.0   \n",
       "86                 39.0                        2.0             57.0   \n",
       "87                 40.0                        2.0             57.0   \n",
       "\n",
       "    Nombre de lots       prix_m2  Type local encoded  \n",
       "24               0  23627.777778                   0  \n",
       "25               0  23627.777778                   0  \n",
       "26               0  32715.384615                   0  \n",
       "86               0  15897.435897                   0  \n",
       "87               0  15500.000000                   0  "
      ]
     },
     "execution_count": 128,
     "metadata": {},
     "output_type": "execute_result"
    }
   ],
   "source": [
    "df_appartements_clean.head ()"
   ]
  },
  {
   "cell_type": "markdown",
   "id": "a6c77c42",
   "metadata": {},
   "source": [
    "### 🏡 Outliers maisons "
   ]
  },
  {
   "cell_type": "code",
   "execution_count": 129,
   "id": "0268ad3e",
   "metadata": {},
   "outputs": [
    {
     "name": "stdout",
     "output_type": "stream",
     "text": [
      "🔍 Détection des outliers sur la colonne 'prix_m2' pour les maisons 🏡\n",
      "Q1 : 4608.032728141424, Q3 : 6610.712351029252\n",
      "Borne inférieure : 1604.0132938096813, Borne supérieure : 9614.731785360995\n",
      "Nombre d'outliers détectés : 104\n",
      "\n",
      "Dimensions avant nettoyage : (1396, 6)\n",
      "Dimensions après nettoyage : (1396, 6)\n"
     ]
    }
   ],
   "source": [
    "def detect_outliers(df, column='prix_m2'):\n",
    "    Q1 = df[column].quantile(0.25)\n",
    "    Q3 = df[column].quantile(0.75)\n",
    "    IQR = Q3 - Q1\n",
    "    lower_bound = Q1 - 1.5 * IQR\n",
    "    upper_bound = Q3 + 1.5 * IQR\n",
    "    outliers = df[(df[column] < lower_bound) | (df[column] > upper_bound)]\n",
    "    return Q1, Q3, lower_bound, upper_bound, outliers\n",
    "\n",
    "# Détection des outliers pour les maisons\n",
    "print(\"🔍 Détection des outliers sur la colonne 'prix_m2' pour les maisons 🏡\")\n",
    "\n",
    "Q1_maisons, Q3_maisons, lower_maisons, upper_maisons, outliers_maisons = detect_outliers(df_maisons_clean)\n",
    "\n",
    "print(f\"Q1 : {Q1_maisons}, Q3 : {Q3_maisons}\")\n",
    "print(f\"Borne inférieure : {lower_maisons}, Borne supérieure : {upper_maisons}\")\n",
    "print(f\"Nombre d'outliers détectés : {outliers_maisons.shape[0]}\\n\")\n",
    "\n",
    "# Dimensions avant nettoyage\n",
    "print(f\"Dimensions avant nettoyage : {df_maisons_clean.shape}\")\n",
    "\n",
    "# Création du DataFrame nettoyé\n",
    "df_maisons_cleaned = df_maisons_clean[\n",
    "    (df_maisons_clean['prix_m2'] >= lower_maisons) &\n",
    "    (df_maisons_clean['prix_m2'] <= upper_maisons)\n",
    "].copy()\n",
    "\n",
    "# Dimensions après nettoyage\n",
    "print(f\"Dimensions après nettoyage : {df_maisons_clean.shape}\")\n"
   ]
  },
  {
   "cell_type": "code",
   "execution_count": 130,
   "id": "70cdd79f",
   "metadata": {},
   "outputs": [
    {
     "data": {
      "text/html": [
       "<div>\n",
       "<style scoped>\n",
       "    .dataframe tbody tr th:only-of-type {\n",
       "        vertical-align: middle;\n",
       "    }\n",
       "\n",
       "    .dataframe tbody tr th {\n",
       "        vertical-align: top;\n",
       "    }\n",
       "\n",
       "    .dataframe thead th {\n",
       "        text-align: right;\n",
       "    }\n",
       "</style>\n",
       "<table border=\"1\" class=\"dataframe\">\n",
       "  <thead>\n",
       "    <tr style=\"text-align: right;\">\n",
       "      <th></th>\n",
       "      <th>Surface reelle bati</th>\n",
       "      <th>Nombre pieces principales</th>\n",
       "      <th>Surface terrain</th>\n",
       "      <th>Nombre de lots</th>\n",
       "      <th>prix_m2</th>\n",
       "      <th>Type local encoded</th>\n",
       "    </tr>\n",
       "  </thead>\n",
       "  <tbody>\n",
       "    <tr>\n",
       "      <th>0</th>\n",
       "      <td>71.0</td>\n",
       "      <td>4.0</td>\n",
       "      <td>70.0</td>\n",
       "      <td>0</td>\n",
       "      <td>5577.464789</td>\n",
       "      <td>1</td>\n",
       "    </tr>\n",
       "    <tr>\n",
       "      <th>5</th>\n",
       "      <td>65.0</td>\n",
       "      <td>3.0</td>\n",
       "      <td>45.0</td>\n",
       "      <td>0</td>\n",
       "      <td>4807.692308</td>\n",
       "      <td>1</td>\n",
       "    </tr>\n",
       "    <tr>\n",
       "      <th>10</th>\n",
       "      <td>162.0</td>\n",
       "      <td>7.0</td>\n",
       "      <td>111.0</td>\n",
       "      <td>0</td>\n",
       "      <td>3117.283951</td>\n",
       "      <td>1</td>\n",
       "    </tr>\n",
       "    <tr>\n",
       "      <th>31</th>\n",
       "      <td>92.0</td>\n",
       "      <td>4.0</td>\n",
       "      <td>121.0</td>\n",
       "      <td>0</td>\n",
       "      <td>5760.869565</td>\n",
       "      <td>1</td>\n",
       "    </tr>\n",
       "    <tr>\n",
       "      <th>44</th>\n",
       "      <td>82.0</td>\n",
       "      <td>3.0</td>\n",
       "      <td>44.0</td>\n",
       "      <td>0</td>\n",
       "      <td>4939.024390</td>\n",
       "      <td>1</td>\n",
       "    </tr>\n",
       "  </tbody>\n",
       "</table>\n",
       "</div>"
      ],
      "text/plain": [
       "    Surface reelle bati  Nombre pieces principales  Surface terrain  \\\n",
       "0                  71.0                        4.0             70.0   \n",
       "5                  65.0                        3.0             45.0   \n",
       "10                162.0                        7.0            111.0   \n",
       "31                 92.0                        4.0            121.0   \n",
       "44                 82.0                        3.0             44.0   \n",
       "\n",
       "    Nombre de lots      prix_m2  Type local encoded  \n",
       "0                0  5577.464789                   1  \n",
       "5                0  4807.692308                   1  \n",
       "10               0  3117.283951                   1  \n",
       "31               0  5760.869565                   1  \n",
       "44               0  4939.024390                   1  "
      ]
     },
     "execution_count": 130,
     "metadata": {},
     "output_type": "execute_result"
    }
   ],
   "source": [
    "df_maisons_cleaned.head()"
   ]
  },
  {
   "cell_type": "markdown",
   "id": "5b9e6167",
   "metadata": {},
   "source": [
    "## 🤖 Étape 7 : Préparation des données pour l'entrainement\n",
    "---"
   ]
  },
  {
   "cell_type": "markdown",
   "id": "75b4af83",
   "metadata": {},
   "source": [
    "### ✅ Préparation des données pour l'entrainement des appartements "
   ]
  },
  {
   "cell_type": "code",
   "execution_count": 131,
   "id": "56283520",
   "metadata": {},
   "outputs": [
    {
     "name": "stdout",
     "output_type": "stream",
     "text": [
      "Taille X : (913, 5)\n",
      "Taille y : (913,)\n"
     ]
    }
   ],
   "source": [
    "\n",
    "# Variables explicatives (X) : toutes les colonnes sauf la cible\n",
    "X_appart = df_appartements_cleaned.drop(columns=['prix_m2'])\n",
    "\n",
    "# Variable cible (y)\n",
    "y_appart = df_appartements_cleaned['prix_m2']\n",
    "\n",
    "\n",
    "# Vérification des jeux d'entraînement et de test\n",
    "print(\"Taille X :\", X_appart.shape)\n",
    "print(\"Taille y :\", y_appart.shape)\n"
   ]
  },
  {
   "cell_type": "markdown",
   "id": "d7b8e7ef",
   "metadata": {},
   "source": [
    "### ✅ Préparation des données pour l'entrainement des maisons"
   ]
  },
  {
   "cell_type": "code",
   "execution_count": 132,
   "id": "d6734cbe",
   "metadata": {},
   "outputs": [
    {
     "name": "stdout",
     "output_type": "stream",
     "text": [
      "Taille de X : (1292, 5)\n",
      "Taille de y : (1292,)\n"
     ]
    }
   ],
   "source": [
    "from sklearn.model_selection import train_test_split\n",
    "\n",
    "# Variables explicatives (X) : toutes les colonnes sauf la cible\n",
    "X_maisons = df_maisons_cleaned.drop(columns=['prix_m2'])\n",
    "\n",
    "# Variable cible (y)\n",
    "y_maisons = df_maisons_cleaned['prix_m2']\n",
    "\n",
    "\n",
    "\n",
    "# Vérification des jeux d'entraînement et de test\n",
    "print(\"Taille de X :\", X_maisons.shape)\n",
    "print(\"Taille de y :\", y_maisons.shape)\n"
   ]
  },
  {
   "cell_type": "markdown",
   "id": "04f62163",
   "metadata": {},
   "source": [
    "### ⚙️ Standardisation des données avec StandardScaler \n",
    "---\n"
   ]
  },
  {
   "cell_type": "markdown",
   "id": "3feb104a",
   "metadata": {},
   "source": [
    "### 🏢 StandardScaler pour les appartements : "
   ]
  },
  {
   "cell_type": "code",
   "execution_count": 133,
   "id": "c6a3899a",
   "metadata": {},
   "outputs": [
    {
     "name": "stdout",
     "output_type": "stream",
     "text": [
      "(913, 5)\n",
      "(913, 5)\n"
     ]
    }
   ],
   "source": [
    "from sklearn.preprocessing import StandardScaler\n",
    "\n",
    "# Initialiser le scaler\n",
    "scaler = StandardScaler()\n",
    "\n",
    "# Fit sur l'entraînement + transformation\n",
    "X_appart_scaled = scaler.fit_transform(X_appart)\n",
    "\n",
    "print(X_appart.shape)\n",
    "print(X_appart_scaled.shape)"
   ]
  },
  {
   "cell_type": "markdown",
   "id": "1a1cd7e4",
   "metadata": {},
   "source": [
    "### 🏡 StandardScaler  pour les maisons : "
   ]
  },
  {
   "cell_type": "code",
   "execution_count": 134,
   "id": "5afbb5b0",
   "metadata": {},
   "outputs": [
    {
     "name": "stdout",
     "output_type": "stream",
     "text": [
      "(1292, 5)\n",
      "(1292, 5)\n"
     ]
    }
   ],
   "source": [
    "from sklearn.preprocessing import StandardScaler\n",
    "\n",
    "# Initialiser le scaler\n",
    "scaler = StandardScaler()\n",
    "\n",
    "# Transformation du test\n",
    "X_maisons_scaled = scaler.fit_transform(X_maisons)\n",
    "\n",
    "print(X_maisons.shape)\n",
    "print(X_maisons_scaled.shape)"
   ]
  },
  {
   "cell_type": "markdown",
   "id": "2fbc7f70",
   "metadata": {},
   "source": [
    "## 🤖 Étape 8 : Application des modéles entrainé sur Lille\n",
    "---"
   ]
  },
  {
   "cell_type": "code",
   "execution_count": 135,
   "id": "895f2336",
   "metadata": {},
   "outputs": [
    {
     "name": "stdout",
     "output_type": "stream",
     "text": [
      "📌 Répertoire courant : /Users/aminaabdm/Desktop/FastAPI_IA_Immobilier/notebooks\n",
      "📁 Répertoire absolu du dossier models : /Users/aminaabdm/Desktop/FastAPI_IA_Immobilier/notebooks/models\n"
     ]
    }
   ],
   "source": [
    "import os\n",
    "\n",
    "# Vérification du répertoire courant et du chemin absolu du dossier models\n",
    "print(\"📌 Répertoire courant :\", os.getcwd())\n",
    "print(\"📁 Répertoire absolu du dossier models :\", os.path.abspath(\"models/\"))\n"
   ]
  },
  {
   "cell_type": "markdown",
   "id": "0b066977",
   "metadata": {},
   "source": [
    "### 🏢 🔄 Chargement des modéles pour les appartements : "
   ]
  },
  {
   "cell_type": "code",
   "execution_count": 140,
   "id": "16d2fa7d",
   "metadata": {},
   "outputs": [],
   "source": [
    "import joblib\n",
    "\n",
    "# Rechargement des modèles (appartements uniquement)\n",
    "\n",
    "LinearRegression_appart = joblib.load(\"../models/linear_regression_apparts_Lille.pkl\")\n",
    "DecisionTree_appart = joblib.load(\"../models/decision_tree_apparts_Lille.pkl\")\n",
    "DecisionTree_GridSearchCV_appart = joblib.load(\"../models/decision_tree_gridsearchcv_apparts_Lille.pkl\")\n",
    "RandomForest_appart = joblib.load(\"../models/random_forest_apparts_Lille.pkl\")\n",
    "RandomForest_GridSearchCV_appart = joblib.load(\"../models/random_forest_gridsearchcv_apparts_Lille.pkl\")\n",
    "XGBR_appart = joblib.load(\"../models/xgboost_apparts_Lille.pkl\")\n",
    "\n"
   ]
  },
  {
   "cell_type": "markdown",
   "id": "3e653ae8",
   "metadata": {},
   "source": [
    "### 🏡 🔄 Chargement des modéles pour les maisons : "
   ]
  },
  {
   "cell_type": "code",
   "execution_count": 139,
   "id": "d638ff7a",
   "metadata": {},
   "outputs": [],
   "source": [
    "import joblib\n",
    "\n",
    "# Rechargement des modèles (maisons uniquement)\n",
    "\n",
    "DecisionTree_maisons = joblib.load(\"../models/decision_tree_maisons_Lille.pkl\")\n",
    "DecisionTree_GridSearchCV_maisons = joblib.load(\"../models/decision_tree_gridsearchcv_maisons_Lille.pkl\")\n",
    "LinearRegression_maisons = joblib.load(\"../models/linear_regression_maisons_Lille.pkl\")\n",
    "RandomForest_maisons = joblib.load(\"../models/random_forest_maisons_Lille.pkl\")\n",
    "RandomForest_GridSearchCV_maisons = joblib.load(\"../models/random_forest_gridsearchcv_maisons_Lille.pkl\")\n",
    "XGBR_maisons = joblib.load(\"../models/xgboost_maisons_Lille.pkl\")"
   ]
  },
  {
   "cell_type": "markdown",
   "id": "7d483fe0",
   "metadata": {},
   "source": [
    "## 📂🔄 Étape 9 : Prédictions sur les données de Bordeaux \n",
    "---"
   ]
  },
  {
   "cell_type": "markdown",
   "id": "2cf09b31",
   "metadata": {},
   "source": [
    "### 🎯 🏢 Prédictions sur Bordeaux pour les appartement "
   ]
  },
  {
   "cell_type": "code",
   "execution_count": 141,
   "id": "188dbdb6",
   "metadata": {},
   "outputs": [
    {
     "name": "stderr",
     "output_type": "stream",
     "text": [
      "/Users/aminaabdm/Desktop/FastAPI_IA_Immobilier/.venv/lib/python3.12/site-packages/sklearn/utils/validation.py:2749: UserWarning: X does not have valid feature names, but LinearRegression was fitted with feature names\n",
      "  warnings.warn(\n",
      "/Users/aminaabdm/Desktop/FastAPI_IA_Immobilier/.venv/lib/python3.12/site-packages/sklearn/utils/validation.py:2749: UserWarning: X does not have valid feature names, but DecisionTreeRegressor was fitted with feature names\n",
      "  warnings.warn(\n",
      "/Users/aminaabdm/Desktop/FastAPI_IA_Immobilier/.venv/lib/python3.12/site-packages/sklearn/utils/validation.py:2749: UserWarning: X does not have valid feature names, but DecisionTreeRegressor was fitted with feature names\n",
      "  warnings.warn(\n",
      "/Users/aminaabdm/Desktop/FastAPI_IA_Immobilier/.venv/lib/python3.12/site-packages/sklearn/utils/validation.py:2749: UserWarning: X does not have valid feature names, but RandomForestRegressor was fitted with feature names\n",
      "  warnings.warn(\n",
      "/Users/aminaabdm/Desktop/FastAPI_IA_Immobilier/.venv/lib/python3.12/site-packages/sklearn/utils/validation.py:2749: UserWarning: X does not have valid feature names, but RandomForestRegressor was fitted with feature names\n",
      "  warnings.warn(\n"
     ]
    }
   ],
   "source": [
    "# Appartements Bordeaux\n",
    "\n",
    "y_pred_lr_appart = LinearRegression_appart.predict(X_appart_scaled)\n",
    "y_pred_dtr_appart = DecisionTree_appart.predict(X_appart_scaled)\n",
    "y_pred_dtr_gsr_appart = DecisionTree_GridSearchCV_appart.predict(X_appart_scaled)\n",
    "y_pred_rf_appart = RandomForest_appart.predict(X_appart_scaled)\n",
    "y_pred_rf_gsr_appart = RandomForest_GridSearchCV_appart.predict(X_appart_scaled)\n",
    "y_pred_xgbr_appart = XGBR_appart.predict(X_appart_scaled)\n",
    "\n"
   ]
  },
  {
   "cell_type": "code",
   "execution_count": 142,
   "id": "e12359c2",
   "metadata": {},
   "outputs": [
    {
     "name": "stdout",
     "output_type": "stream",
     "text": [
      "🎯 y_reel : (913,)\n",
      "🧠 y_pred : (913,)\n",
      "🧠 y_pred : (913,)\n",
      "🧠 y_pred : (913,)\n",
      "🧠 y_pred : (913,)\n",
      "🧠 y_pred : (913,)\n",
      "🧠 y_pred : (913,)\n"
     ]
    }
   ],
   "source": [
    "#  Vérifier que ça matche\n",
    "print(\"🎯 y_reel :\", y_appart.shape)\n",
    "print(\"🧠 y_pred :\", y_pred_lr_appart.shape)\n",
    "print(\"🧠 y_pred :\", y_pred_dtr_appart.shape)\n",
    "print(\"🧠 y_pred :\", y_pred_dtr_gsr_appart.shape)\n",
    "print(\"🧠 y_pred :\", y_pred_rf_appart.shape)\n",
    "print(\"🧠 y_pred :\", y_pred_rf_gsr_appart.shape)\n",
    "print(\"🧠 y_pred :\", y_pred_xgbr_appart.shape)"
   ]
  },
  {
   "cell_type": "markdown",
   "id": "96223bc9",
   "metadata": {},
   "source": [
    "### 🎯 🏡 Prédictions sur Bordeaux pour les maisons "
   ]
  },
  {
   "cell_type": "code",
   "execution_count": 143,
   "id": "b0beb1ff",
   "metadata": {},
   "outputs": [
    {
     "name": "stderr",
     "output_type": "stream",
     "text": [
      "/Users/aminaabdm/Desktop/FastAPI_IA_Immobilier/.venv/lib/python3.12/site-packages/sklearn/utils/validation.py:2749: UserWarning: X does not have valid feature names, but LinearRegression was fitted with feature names\n",
      "  warnings.warn(\n",
      "/Users/aminaabdm/Desktop/FastAPI_IA_Immobilier/.venv/lib/python3.12/site-packages/sklearn/utils/validation.py:2749: UserWarning: X does not have valid feature names, but DecisionTreeRegressor was fitted with feature names\n",
      "  warnings.warn(\n",
      "/Users/aminaabdm/Desktop/FastAPI_IA_Immobilier/.venv/lib/python3.12/site-packages/sklearn/utils/validation.py:2749: UserWarning: X does not have valid feature names, but DecisionTreeRegressor was fitted with feature names\n",
      "  warnings.warn(\n",
      "/Users/aminaabdm/Desktop/FastAPI_IA_Immobilier/.venv/lib/python3.12/site-packages/sklearn/utils/validation.py:2749: UserWarning: X does not have valid feature names, but RandomForestRegressor was fitted with feature names\n",
      "  warnings.warn(\n",
      "/Users/aminaabdm/Desktop/FastAPI_IA_Immobilier/.venv/lib/python3.12/site-packages/sklearn/utils/validation.py:2749: UserWarning: X does not have valid feature names, but RandomForestRegressor was fitted with feature names\n",
      "  warnings.warn(\n"
     ]
    }
   ],
   "source": [
    "# Maisons Bordeaux\n",
    "\n",
    "y_pred_lr_maisons = LinearRegression_maisons.predict(X_maisons_scaled)\n",
    "y_pred_dtr_maisons = DecisionTree_maisons.predict(X_maisons_scaled)\n",
    "y_pred_dtr_gsr_maisons = DecisionTree_GridSearchCV_maisons.predict(X_maisons_scaled)\n",
    "y_pred_rf_maisons = RandomForest_maisons.predict(X_maisons_scaled)\n",
    "y_pred_rf_gsr_maisons = RandomForest_GridSearchCV_maisons.predict(X_maisons_scaled)\n",
    "y_pred_xgbr_maisons = XGBR_maisons.predict(X_maisons_scaled)"
   ]
  },
  {
   "cell_type": "code",
   "execution_count": 144,
   "id": "b76e29e8",
   "metadata": {},
   "outputs": [
    {
     "name": "stdout",
     "output_type": "stream",
     "text": [
      "🎯 y_reel : (1292,)\n",
      "🧠 y_pred : (1292,)\n",
      "🧠 y_pred : (1292,)\n",
      "🧠 y_pred : (1292,)\n",
      "🧠 y_pred : (1292,)\n",
      "🧠 y_pred : (1292,)\n",
      "🧠 y_pred : (1292,)\n"
     ]
    }
   ],
   "source": [
    "#  Vérifier que ça matche\n",
    "print(\"🎯 y_reel :\", y_maisons.shape)\n",
    "print(\"🧠 y_pred :\", y_pred_lr_maisons.shape)\n",
    "print(\"🧠 y_pred :\", y_pred_dtr_maisons.shape)\n",
    "print(\"🧠 y_pred :\", y_pred_dtr_gsr_maisons.shape)\n",
    "print(\"🧠 y_pred :\", y_pred_rf_maisons.shape)\n",
    "print(\"🧠 y_pred :\", y_pred_rf_gsr_maisons.shape)\n",
    "print(\"🧠 y_pred :\", y_pred_xgbr_maisons.shape)"
   ]
  },
  {
   "cell_type": "markdown",
   "id": "c66d5ef0",
   "metadata": {},
   "source": [
    "### 📋 🏢 Afficher les prédictions de chaque modéle pour les appartements "
   ]
  },
  {
   "cell_type": "code",
   "execution_count": 145,
   "id": "4f990f48",
   "metadata": {},
   "outputs": [
    {
     "name": "stdout",
     "output_type": "stream",
     "text": [
      "\n",
      "🏢 Résultats pour les appartements :\n"
     ]
    },
    {
     "data": {
      "text/html": [
       "<div>\n",
       "<style scoped>\n",
       "    .dataframe tbody tr th:only-of-type {\n",
       "        vertical-align: middle;\n",
       "    }\n",
       "\n",
       "    .dataframe tbody tr th {\n",
       "        vertical-align: top;\n",
       "    }\n",
       "\n",
       "    .dataframe thead th {\n",
       "        text-align: right;\n",
       "    }\n",
       "</style>\n",
       "<table border=\"1\" class=\"dataframe\">\n",
       "  <thead>\n",
       "    <tr style=\"text-align: right;\">\n",
       "      <th></th>\n",
       "      <th>r2</th>\n",
       "      <th>mse</th>\n",
       "    </tr>\n",
       "  </thead>\n",
       "  <tbody>\n",
       "    <tr>\n",
       "      <th>LinearRegression</th>\n",
       "      <td>0.005896</td>\n",
       "      <td>1.732843e+08</td>\n",
       "    </tr>\n",
       "    <tr>\n",
       "      <th>RandomForest (GridSearchCV)</th>\n",
       "      <td>-0.020400</td>\n",
       "      <td>1.778682e+08</td>\n",
       "    </tr>\n",
       "    <tr>\n",
       "      <th>RandomForest</th>\n",
       "      <td>-0.028668</td>\n",
       "      <td>1.793094e+08</td>\n",
       "    </tr>\n",
       "    <tr>\n",
       "      <th>XGBoost</th>\n",
       "      <td>-0.168176</td>\n",
       "      <td>2.036273e+08</td>\n",
       "    </tr>\n",
       "    <tr>\n",
       "      <th>DecisionTree</th>\n",
       "      <td>-0.327225</td>\n",
       "      <td>2.313514e+08</td>\n",
       "    </tr>\n",
       "    <tr>\n",
       "      <th>DecisionTree (GridSearchCV)</th>\n",
       "      <td>-0.374003</td>\n",
       "      <td>2.395055e+08</td>\n",
       "    </tr>\n",
       "  </tbody>\n",
       "</table>\n",
       "</div>"
      ],
      "text/plain": [
       "                                   r2           mse\n",
       "LinearRegression             0.005896  1.732843e+08\n",
       "RandomForest (GridSearchCV) -0.020400  1.778682e+08\n",
       "RandomForest                -0.028668  1.793094e+08\n",
       "XGBoost                     -0.168176  2.036273e+08\n",
       "DecisionTree                -0.327225  2.313514e+08\n",
       "DecisionTree (GridSearchCV) -0.374003  2.395055e+08"
      ]
     },
     "metadata": {},
     "output_type": "display_data"
    }
   ],
   "source": [
    "from sklearn.metrics import r2_score, mean_squared_error\n",
    "import pandas as pd\n",
    "\n",
    "# 🧮 Calculs Appartements\n",
    "r2_lr_appart  = r2_score(y_appart, y_pred_lr_appart)\n",
    "r2_dtr_appart = r2_score(y_appart, y_pred_dtr_appart)\n",
    "r2_dtr_gsr_appart = r2_score(y_appart, y_pred_dtr_gsr_appart)\n",
    "r2_rfr_appart = r2_score(y_appart, y_pred_rf_appart)\n",
    "r2_gsr_rfr_appart = r2_score(y_appart, y_pred_rf_gsr_appart)\n",
    "r2_xgbr_appart = r2_score(y_appart, y_pred_xgbr_appart)\n",
    "\n",
    "mse_lr_appart  = mean_squared_error(y_appart, y_pred_lr_appart)\n",
    "mse_dtr_appart = mean_squared_error(y_appart, y_pred_dtr_appart)\n",
    "mse_gsr_dtr_appart = mean_squared_error(y_appart, y_pred_dtr_gsr_appart)\n",
    "mse_rfr_appart = mean_squared_error(y_appart, y_pred_rf_appart)\n",
    "mse_gsr_rfr_appart = mean_squared_error(y_appart, y_pred_rf_gsr_appart)\n",
    "mse_xgbr_appart = mean_squared_error(y_appart, y_pred_xgbr_appart)\n",
    "\n",
    "\n",
    "\n",
    "# 📊 Résultats pour les appartements\n",
    "resultats_appart = {\n",
    "    \"LinearRegression\": {\"r2\": r2_lr_appart, \"mse\": mse_lr_appart},\n",
    "    \"DecisionTree\": {\"r2\": r2_dtr_appart, \"mse\": mse_dtr_appart},\n",
    "    \"DecisionTree (GridSearchCV)\" : {\"r2\": r2_dtr_gsr_appart, \"mse\": mse_gsr_dtr_appart},\n",
    "    \"RandomForest\": {\"r2\": r2_rfr_appart, \"mse\": mse_rfr_appart},\n",
    "    \"RandomForest (GridSearchCV)\": {\"r2\": r2_gsr_rfr_appart, \"mse\": mse_gsr_rfr_appart},\n",
    "    \"XGBoost\": {\"r2\": r2_xgbr_appart, \"mse\": mse_xgbr_appart}\n",
    "}\n",
    "\n",
    "\n",
    "\n",
    "# 🧾 Convertion en DataFrames\n",
    "df_resultats_appart = pd.DataFrame(resultats_appart).T\n",
    "\n",
    "\n",
    "# 📣 Affichage\n",
    "print(\"\\n🏢 Résultats pour les appartements :\")\n",
    "display(df_resultats_appart.sort_values(by='r2', ascending=False))\n",
    "\n"
   ]
  },
  {
   "cell_type": "code",
   "execution_count": 146,
   "id": "100bd402",
   "metadata": {},
   "outputs": [
    {
     "name": "stdout",
     "output_type": "stream",
     "text": [
      "\n",
      "🏠 Résultats pour les maisons :\n"
     ]
    },
    {
     "data": {
      "text/html": [
       "<div>\n",
       "<style scoped>\n",
       "    .dataframe tbody tr th:only-of-type {\n",
       "        vertical-align: middle;\n",
       "    }\n",
       "\n",
       "    .dataframe tbody tr th {\n",
       "        vertical-align: top;\n",
       "    }\n",
       "\n",
       "    .dataframe thead th {\n",
       "        text-align: right;\n",
       "    }\n",
       "</style>\n",
       "<table border=\"1\" class=\"dataframe\">\n",
       "  <thead>\n",
       "    <tr style=\"text-align: right;\">\n",
       "      <th></th>\n",
       "      <th>r2</th>\n",
       "      <th>mse</th>\n",
       "    </tr>\n",
       "  </thead>\n",
       "  <tbody>\n",
       "    <tr>\n",
       "      <th>DecisionTree (GridSearchCV)</th>\n",
       "      <td>-0.374003</td>\n",
       "      <td>8.130029e+06</td>\n",
       "    </tr>\n",
       "    <tr>\n",
       "      <th>RandomForest (GridSearchCV)</th>\n",
       "      <td>-2.956385</td>\n",
       "      <td>8.187240e+06</td>\n",
       "    </tr>\n",
       "    <tr>\n",
       "      <th>RandomForest</th>\n",
       "      <td>-2.973259</td>\n",
       "      <td>8.222158e+06</td>\n",
       "    </tr>\n",
       "    <tr>\n",
       "      <th>LinearRegression</th>\n",
       "      <td>-3.040591</td>\n",
       "      <td>8.361494e+06</td>\n",
       "    </tr>\n",
       "    <tr>\n",
       "      <th>XGBoost</th>\n",
       "      <td>-3.163592</td>\n",
       "      <td>8.616030e+06</td>\n",
       "    </tr>\n",
       "    <tr>\n",
       "      <th>DecisionTree</th>\n",
       "      <td>-3.517995</td>\n",
       "      <td>9.349422e+06</td>\n",
       "    </tr>\n",
       "  </tbody>\n",
       "</table>\n",
       "</div>"
      ],
      "text/plain": [
       "                                   r2           mse\n",
       "DecisionTree (GridSearchCV) -0.374003  8.130029e+06\n",
       "RandomForest (GridSearchCV) -2.956385  8.187240e+06\n",
       "RandomForest                -2.973259  8.222158e+06\n",
       "LinearRegression            -3.040591  8.361494e+06\n",
       "XGBoost                     -3.163592  8.616030e+06\n",
       "DecisionTree                -3.517995  9.349422e+06"
      ]
     },
     "metadata": {},
     "output_type": "display_data"
    }
   ],
   "source": [
    "# 🧮 Calculs Maisons\n",
    "\n",
    "\n",
    "r2_lr_maisons  = r2_score(y_maisons, y_pred_lr_maisons)\n",
    "r2_dtr_maisons = r2_score(y_maisons, y_pred_dtr_maisons)\n",
    "r2_dtr_gsr_maisons = r2_score(y_maisons, y_pred_dtr_gsr_maisons)\n",
    "r2_rfr_maisons = r2_score(y_maisons, y_pred_rf_maisons)\n",
    "r2_gsr_rfr_maisons = r2_score(y_maisons, y_pred_rf_gsr_maisons)\n",
    "r2_xgbr_maison  = r2_score(y_maisons, y_pred_xgbr_maisons)\n",
    "\n",
    "mse_lr_maison  = mean_squared_error(y_maisons, y_pred_lr_maisons)\n",
    "mse_dtr_maisons = mean_squared_error(y_maisons, y_pred_dtr_maisons)\n",
    "mse_gsr_dtr_maisons = mean_squared_error(y_maisons, y_pred_dtr_gsr_maisons)\n",
    "mse_rfr_maisons = mean_squared_error(y_maisons, y_pred_rf_maisons)\n",
    "mse_gsc_rfr_maisons = mean_squared_error(y_maisons, y_pred_rf_gsr_maisons)\n",
    "mse_xgbr_maison = mean_squared_error(y_maisons, y_pred_xgbr_maisons)\n",
    "\n",
    "# 📊 Résultats pour les maisons\n",
    "resultats_maisons = {\n",
    "    \"LinearRegression\": {\"r2\": r2_lr_maisons, \"mse\": mse_lr_maison},\n",
    "    \"DecisionTree\": {\"r2\": r2_dtr_maisons, \"mse\": mse_dtr_maisons},\n",
    "    \"DecisionTree (GridSearchCV)\" :{\"r2\": r2_dtr_gsr_appart, \"mse\": mse_gsr_dtr_maisons},\n",
    "    \"RandomForest\": {\"r2\": r2_rfr_maisons, \"mse\": mse_rfr_maisons},\n",
    "    \"RandomForest (GridSearchCV)\": {\"r2\": r2_gsr_rfr_maisons, \"mse\": mse_gsc_rfr_maisons},\n",
    "    \"XGBoost\": {\"r2\": r2_xgbr_maison, \"mse\": mse_xgbr_maison}\n",
    "}\n",
    "\n",
    "# 🧾 Convertion en DataFrames\n",
    "df_resultats_maisons = pd.DataFrame(resultats_maisons).T\n",
    "\n",
    "# 📣 Affichage\n",
    "print(\"\\n🏠 Résultats pour les maisons :\")\n",
    "display(df_resultats_maisons.sort_values(by='r2', ascending=False))\n"
   ]
  },
  {
   "cell_type": "markdown",
   "id": "5dc0a9fc",
   "metadata": {},
   "source": [
    "## 📊  Étape 10 : Comparaisons des performances entre Lille et Bordeaux  \n",
    "---"
   ]
  },
  {
   "cell_type": "markdown",
   "id": "38d2c5da",
   "metadata": {},
   "source": [
    "### 🧪 Étude comparative des modèles de prédiction immobilière : Lille vs Bordeaux\n",
    "\n",
    "### 🏢 Résultats des modèles Appartements \n",
    "\n",
    "\n",
    "| Modèle                         | R² Lille | MSE Lille       | R² Bordeaux | MSE Bordeaux     |\n",
    "|-------------------------------|----------|------------------|-------------|------------------|\n",
    "| XGBoost                       | 0.680    | 32 993 290       | -0.168      | 203 627 300      |\n",
    "| RandomForest                  | 0.647    | 36 441 400       | -0.029      | 179 309 400      |\n",
    "| RandomForest (GridSearchCV)  | 0.645    | 36 555 040       | -0.020      | 177 868 200      |\n",
    "| DecisionTree                  | 0.570    | 44 359 340       | -0.327      | 231 351 400      |\n",
    "| DecisionTree (GridSearchCV)  | 0.524    | 49 052 000       | -0.374      | 239 505 500      |\n",
    "| LinearRegression              | 0.144    | 88 223 000       | 0.006       | 173 284 300      |\n",
    "\n",
    "\n",
    "\n",
    "\n",
    "### 🏠 Résultats des modèles - Maisons \n",
    "\n",
    "| Modèle                         | R² Lille | MSE Lille       | R² Bordeaux | MSE Bordeaux     |\n",
    "|-------------------------------|----------|------------------|-------------|------------------|\n",
    "| RandomForest (GridSearchCV)  | 0.064    | 957 047          | -2.956      | 8 187 240        |\n",
    "| LinearRegression              | 0.031    | 990 380          | -3.041      | 8 361 494        |\n",
    "| DecisionTree (GridSearchCV)  | 0.017    | 1 004 800        | -0.374      | 8 130 029        |\n",
    "| RandomForest                  | -0.010   | 1 032 614        | -2.973      | 8 222 158        |\n",
    "| XGBoost                       | -0.127   | 1 152 406        | -3.164      | 8 616 030        |\n",
    "| DecisionTree                  | -0.692   | 1 729 826        | -3.518      | 9 349 422        |\n",
    "\n",
    "\n",
    "### 📌 Analyse \n",
    "\n",
    "#### 🏢 Appartements\n",
    "\n",
    "- Tous les modèles chutent drastiquement en performance sur Bordeaux (R² proches de 0 ou négatifs).\n",
    "- Le meilleur R² sur Lille est obtenu par XGBoost (0.68), mais il devient négatif sur Bordeaux (-0.17).\n",
    "- LinearRegression est très faible à l'entraînement, mais a le meilleur score sur Bordeaux (R² ≈ 0.006) — bien que cela reste mauvais.\n",
    "\n",
    "#### 🏠 Maisons\n",
    "\n",
    "- Les modèles ont déjà de très faibles R² sur Lille (max ≈ 0.06).\n",
    "- Sur Bordeaux, aucun modèle ne dépasse -0.37. Le DecisionTree (GridSearchCV) s'en sort \"moins\n",
    "mal\" que les autres.\n",
    "- Tous les modèles montrent une généralisation catastrophique pour les maisons à Bordeaux.\n",
    "\n",
    "### 🧩 Hypothèses explicatives\n",
    "\n",
    "Les modèles entraînés sur Lille ne sont pas généralisables à Bordeaux. Cela peut être dû à :\n",
    "\n",
    "- des caractéristiques socio-économiques ou géographiques très différentes,\n",
    "- des variables importantes manquantes ou mal encodées (ex : localisation fine, quartier, année\n",
    "de construction, etc.),\n",
    "- ou encore à un déséquilibre dans la distribution des prix ou surfaces entre les deux villes.\n"
   ]
  }
 ],
 "metadata": {
  "kernelspec": {
   "display_name": ".venv",
   "language": "python",
   "name": "python3"
  },
  "language_info": {
   "codemirror_mode": {
    "name": "ipython",
    "version": 3
   },
   "file_extension": ".py",
   "mimetype": "text/x-python",
   "name": "python",
   "nbconvert_exporter": "python",
   "pygments_lexer": "ipython3",
   "version": "3.12.10"
  }
 },
 "nbformat": 4,
 "nbformat_minor": 5
}
